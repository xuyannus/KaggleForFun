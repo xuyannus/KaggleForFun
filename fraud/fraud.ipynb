{
 "cells": [
  {
   "cell_type": "code",
   "execution_count": 129,
   "metadata": {},
   "outputs": [],
   "source": [
    "import pandas as pd\n",
    "import numpy as np\n",
    "\n",
    "from sklearn.metrics import roc_auc_score\n",
    "\n",
    "from sklearn.preprocessing import LabelEncoder\n",
    "import matplotlib.pyplot as plt\n",
    "%matplotlib inline\n",
    "\n",
    "import gc\n",
    "import lightgbm as lgb\n",
    "\n",
    "from sklearn.metrics import roc_auc_score\n",
    "from sklearn.model_selection import ParameterGrid"
   ]
  },
  {
   "cell_type": "markdown",
   "metadata": {},
   "source": [
    "# Load Data"
   ]
  },
  {
   "cell_type": "code",
   "execution_count": 156,
   "metadata": {},
   "outputs": [],
   "source": [
    "train_identity = pd.read_csv('train_identity.csv')\n",
    "train_transaction = pd.read_csv('train_transaction.csv')\n",
    "test_identity = pd.read_csv('test_identity.csv')\n",
    "test_transaction = pd.read_csv('test_transaction.csv')\n",
    "sub = pd.read_csv('sample_submission.csv')              "
   ]
  },
  {
   "cell_type": "code",
   "execution_count": 157,
   "metadata": {},
   "outputs": [],
   "source": [
    "## use a small data size for testing"
   ]
  },
  {
   "cell_type": "code",
   "execution_count": 158,
   "metadata": {},
   "outputs": [],
   "source": [
    "# train_identity = train_identity.head(100000)\n",
    "# train_transaction = train_transaction.head(100000)\n",
    "# test_identity = test_identity.head(100000)\n",
    "# test_transaction = test_transaction.head(100000)"
   ]
  },
  {
   "cell_type": "code",
   "execution_count": 159,
   "metadata": {},
   "outputs": [],
   "source": [
    "train = pd.merge(train_transaction, train_identity, on='TransactionID', how='left')\n",
    "test = pd.merge(test_transaction, test_identity, on='TransactionID', how='left')"
   ]
  },
  {
   "cell_type": "code",
   "execution_count": 160,
   "metadata": {},
   "outputs": [
    {
     "name": "stdout",
     "output_type": "stream",
     "text": [
      "Train dataset has 590540 rows and 434 columns.\n",
      "Test dataset has 506691 rows and 433 columns.\n"
     ]
    }
   ],
   "source": [
    "print(f'Train dataset has {train.shape[0]} rows and {train.shape[1]} columns.')\n",
    "print(f'Test dataset has {test.shape[0]} rows and {test.shape[1]} columns.')"
   ]
  },
  {
   "cell_type": "code",
   "execution_count": 161,
   "metadata": {},
   "outputs": [],
   "source": [
    "del train_identity, train_transaction, test_identity, test_transaction"
   ]
  },
  {
   "cell_type": "code",
   "execution_count": 162,
   "metadata": {},
   "outputs": [
    {
     "data": {
      "text/plain": [
       "185"
      ]
     },
     "execution_count": 162,
     "metadata": {},
     "output_type": "execute_result"
    }
   ],
   "source": [
    "gc.collect()"
   ]
  },
  {
   "cell_type": "markdown",
   "metadata": {},
   "source": [
    "# Data Exploration"
   ]
  },
  {
   "cell_type": "code",
   "execution_count": 163,
   "metadata": {},
   "outputs": [],
   "source": [
    "useful_features = ['TransactionDT', 'TransactionAmt',\n",
    "                   'ProductCD', 'card1', 'card2', 'card3', 'card4', 'card5', 'card6',\n",
    "                   'addr1', 'addr2', 'dist1', 'dist2', 'P_emaildomain',\n",
    "                   'R_emaildomain', 'C1', 'C2', 'C3', 'C4', 'C5', 'C6', 'C7', 'C8',\n",
    "                   'C9', 'C10', 'C11', 'C12', 'C13', 'C14', 'D1', 'D2', 'D3', 'D4',\n",
    "                   'D5', 'D6', 'D7', 'D8', 'D9', 'D10', 'D11', 'D12', 'D13', 'D14',\n",
    "                   'D15', 'M1', 'M2', 'M3', 'M4', 'M5', 'M6', 'M7', 'M8', 'M9', 'V1',\n",
    "                   'V2', 'V3', 'V4', 'V5', 'V6', 'V7', 'V8', 'V9', 'V10', 'V11',\n",
    "                   'V12', 'V13', 'V14', 'V15', 'V16', 'V17', 'V18', 'V19', 'V20',\n",
    "                   'V21', 'V22', 'V23', 'V24', 'V25', 'V26', 'V27', 'V28', 'V29',\n",
    "                   'V30', 'V31', 'V32', 'V33', 'V34', 'V35', 'V36', 'V37', 'V38',\n",
    "                   'V39', 'V40', 'V41', 'V42', 'V43', 'V44', 'V45', 'V46', 'V47',\n",
    "                   'V48', 'V49', 'V50', 'V51', 'V52', 'V53', 'V54', 'V55', 'V56',\n",
    "                   'V57', 'V58', 'V59', 'V60', 'V61', 'V62', 'V63', 'V64', 'V65',\n",
    "                   'V66', 'V67', 'V68', 'V69', 'V70', 'V71', 'V72', 'V73', 'V74',\n",
    "                   'V75', 'V76', 'V77', 'V78', 'V79', 'V80', 'V81', 'V82', 'V83',\n",
    "                   'V84', 'V85', 'V86', 'V87', 'V88', 'V89', 'V90', 'V91', 'V92',\n",
    "                   'V93', 'V94', 'V95', 'V96', 'V97', 'V98', 'V99', 'V100', 'V101',\n",
    "                   'V102', 'V103', 'V104', 'V105', 'V106', 'V107', 'V108', 'V109',\n",
    "                   'V110', 'V111', 'V112', 'V113', 'V114', 'V115', 'V116', 'V117',\n",
    "                   'V118', 'V119', 'V120', 'V121', 'V122', 'V123', 'V124', 'V125',\n",
    "                   'V126', 'V127', 'V128', 'V129', 'V130', 'V131', 'V132', 'V133',\n",
    "                   'V134', 'V135', 'V136', 'V137', 'V138', 'V139', 'V140', 'V141',\n",
    "                   'V142', 'V143', 'V144', 'V145', 'V146', 'V147', 'V148', 'V149',\n",
    "                   'V150', 'V151', 'V152', 'V153', 'V154', 'V155', 'V156', 'V157',\n",
    "                   'V158', 'V159', 'V160', 'V161', 'V162', 'V163', 'V164', 'V165',\n",
    "                   'V166', 'V167', 'V168', 'V169', 'V170', 'V171', 'V172', 'V173',\n",
    "                   'V174', 'V175', 'V176', 'V177', 'V178', 'V179', 'V180', 'V181',\n",
    "                   'V182', 'V183', 'V184', 'V185', 'V186', 'V187', 'V188', 'V189',\n",
    "                   'V190', 'V191', 'V192', 'V193', 'V194', 'V195', 'V196', 'V197',\n",
    "                   'V198', 'V199', 'V200', 'V201', 'V202', 'V203', 'V204', 'V205',\n",
    "                   'V206', 'V207', 'V208', 'V209', 'V210', 'V211', 'V212', 'V213',\n",
    "                   'V214', 'V215', 'V216', 'V217', 'V218', 'V219', 'V220', 'V221',\n",
    "                   'V222', 'V223', 'V224', 'V225', 'V226', 'V227', 'V228', 'V229',\n",
    "                   'V230', 'V231', 'V232', 'V233', 'V234', 'V235', 'V236', 'V237',\n",
    "                   'V238', 'V239', 'V240', 'V241', 'V242', 'V243', 'V244', 'V245',\n",
    "                   'V246', 'V247', 'V248', 'V249', 'V250', 'V251', 'V252', 'V253',\n",
    "                   'V254', 'V255', 'V256', 'V257', 'V258', 'V259', 'V260', 'V261',\n",
    "                   'V262', 'V263', 'V264', 'V265', 'V266', 'V267', 'V268', 'V269',\n",
    "                   'V270', 'V271', 'V272', 'V273', 'V274', 'V275', 'V276', 'V277',\n",
    "                   'V278', 'V279', 'V280', 'V281', 'V282', 'V283', 'V284', 'V285',\n",
    "                   'V286', 'V287', 'V288', 'V289', 'V290', 'V291', 'V292', 'V293',\n",
    "                   'V294', 'V295', 'V296', 'V297', 'V298', 'V299', 'V300', 'V301',\n",
    "                   'V302', 'V303', 'V304', 'V305', 'V306', 'V307', 'V308', 'V309',\n",
    "                   'V310', 'V311', 'V312', 'V313', 'V314', 'V315', 'V316', 'V317',\n",
    "                   'V318', 'V319', 'V320', 'V321', 'V322', 'V323', 'V324', 'V325',\n",
    "                   'V326', 'V327', 'V328', 'V329', 'V330', 'V331', 'V332', 'V333',\n",
    "                   'V334', 'V335', 'V336', 'V337', 'V338', 'V339', 'id_01', 'id_02',\n",
    "                   'id_03', 'id_04', 'id_05', 'id_06', 'id_07', 'id_08', 'id_09',\n",
    "                   'id_10', 'id_11', 'id_12', 'id_13', 'id_14', 'id_15', 'id_16',\n",
    "                   'id_17', 'id_18', 'id_19', 'id_20', 'id_21', 'id_22', 'id_23',\n",
    "                   'id_24', 'id_25', 'id_26', 'id_27', 'id_28', 'id_29', 'id_30',\n",
    "                   'id_31', 'id_32', 'id_33', 'id_34', 'id_35', 'id_36', 'id_37',\n",
    "                   'id_38', 'DeviceType', 'DeviceInfo']"
   ]
  },
  {
   "cell_type": "code",
   "execution_count": null,
   "metadata": {},
   "outputs": [],
   "source": [
    "cat_features = [   'ProductCD', 'card1', 'card2', 'card3', 'card4', 'card5', 'card6',\n",
    "                   'addr1', 'addr2', 'P_emaildomain', 'R_emaildomain', 'M1', 'M2', 'M3', \n",
    "                   'M4', 'M5', 'M6', 'M7', 'M8', 'M9', 'id_12', 'id_13', 'id_14', 'id_15', 'id_16',\n",
    "                   'id_17', 'id_18', 'id_19', 'id_20', 'id_21', 'id_22', 'id_23',\n",
    "                   'id_24', 'id_25', 'id_26', 'id_27', 'id_28', 'id_29', 'id_30',\n",
    "                   'id_31', 'id_32', 'id_33', 'id_34', 'id_35', 'id_36', 'id_37',\n",
    "                   'id_38', 'DeviceType', 'DeviceInfo']"
   ]
  },
  {
   "cell_type": "code",
   "execution_count": null,
   "metadata": {},
   "outputs": [],
   "source": [
    "for col in train.columns:\n",
    "    if col in cat_features:\n",
    "        le = LabelEncoder()\n",
    "        le.fit(list(train[col].astype(str).values) + list(test[col].astype(str).values))\n",
    "        train.loc[:, col] = le.transform(list(train[col].astype(str).values))\n",
    "        test.loc[:, col] = le.transform(list(test[col].astype(str).values))"
   ]
  },
  {
   "cell_type": "markdown",
   "metadata": {},
   "source": [
    "## tuning parameter"
   ]
  },
  {
   "cell_type": "code",
   "execution_count": null,
   "metadata": {},
   "outputs": [],
   "source": [
    "train_X = train[useful_features].head(int(train.shape[0] / 2))\n",
    "train_Y = train['isFraud'].head(int(train.shape[0] / 2))\n",
    "eva_X = train[useful_features].tail(int(train.shape[0] / 2))\n",
    "eva_Y = train['isFraud'].tail(int(train.shape[0] / 2))"
   ]
  },
  {
   "cell_type": "code",
   "execution_count": null,
   "metadata": {},
   "outputs": [],
   "source": [
    "def grid_evaluate_binary(X_train, y_train, X_test, y_test, params_fixed, params_grid, categorical_feature):\n",
    "    optimal_auc = 0\n",
    "    optimal_params = {}\n",
    "\n",
    "    for param in ParameterGrid(params_grid):\n",
    "        local_params = {**params_fixed, **param}\n",
    "        gbdt_model = lgb.LGBMClassifier(**local_params)\n",
    "        gbdt_model.fit(X_train, y_train, eval_set=[(X_test, y_test)], early_stopping_rounds=20, eval_metric='auc', categorical_feature=categorical_feature)\n",
    "\n",
    "        y_pred = gbdt_model.predict_proba(X_test)[:, 1]\n",
    "        local_auc = roc_auc_score(y_test, y_pred)\n",
    "\n",
    "        print({\n",
    "            \"type\": \"hyperparameter_tuning_candidate\",\n",
    "            \"local_params\": local_params,\n",
    "            \"local_auc\": local_auc})\n",
    "\n",
    "        if local_auc > optimal_auc:\n",
    "            optimal_auc = local_auc\n",
    "            optimal_params = local_params\n",
    "\n",
    "    print({\n",
    "        \"type\": \"hyperparameter_tuning_optimal\",\n",
    "        \"optimal_auc\": optimal_auc,\n",
    "        \"optimal_params\": optimal_params})\n",
    "\n",
    "    return optimal_params, optimal_auc"
   ]
  },
  {
   "cell_type": "code",
   "execution_count": null,
   "metadata": {},
   "outputs": [],
   "source": [
    "params_fixed = {'max_depth': -1,  # no limit, use num_leaves\n",
    "                'objective': 'binary',  # binary log loss classification\n",
    "                'nthread': -1,\n",
    "                'metric': 'auc',\n",
    "                'boosting_type': 'gbdt',\n",
    "                'min_data_in_leaf': 20,\n",
    "                'zero_as_missing': False} \n",
    "\n",
    "main_params_grid = {\n",
    "    'n_estimators': [100, 200, 400, 800],\n",
    "    'num_leaves': [31, 60, 120, 240]\n",
    "}\n",
    "\n",
    "minor_params_grid = {\n",
    "    'learning_rate': [0.005, 0.01, 0.02, 0.05, 0.1],\n",
    "    'lambda_l2': [0.001, 0.01, 0.1],\n",
    "}"
   ]
  },
  {
   "cell_type": "code",
   "execution_count": null,
   "metadata": {},
   "outputs": [],
   "source": [
    "# optimal_params, _ = grid_evaluate_binary(train_X, train_Y, eva_X, eva_Y, params_fixed, main_params_grid, categorical_feature=cat_features)\n",
    "# optimal_params2, _ = grid_evaluate_binary(train_X, train_Y, eva_X, eva_Y, optimal_params, minor_params_grid, categorical_feature=cat_features)"
   ]
  },
  {
   "cell_type": "code",
   "execution_count": null,
   "metadata": {},
   "outputs": [],
   "source": [
    "print(optimal_params2)"
   ]
  },
  {
   "cell_type": "code",
   "execution_count": null,
   "metadata": {},
   "outputs": [],
   "source": [
    "optimal_params2 = {'max_depth': -1, 'objective': 'binary', 'nthread': -1, 'metric': 'auc', 'boosting_type': 'gbdt', 'min_data_in_leaf': 20, 'zero_as_missing': False, 'n_estimators': 200, 'num_leaves': 31, 'lambda_l2': 0.01, 'learning_rate': 0.05}"
   ]
  },
  {
   "cell_type": "markdown",
   "metadata": {},
   "source": [
    "# Train LightGBM"
   ]
  },
  {
   "cell_type": "code",
   "execution_count": null,
   "metadata": {},
   "outputs": [],
   "source": [
    "model = lgb.LGBMClassifier(**optimal_params2)\n",
    "model.fit(train_X, train_Y, eval_set=(eva_X, eva_Y), eval_metric='auc', early_stopping_rounds=50, categorical_feature=cat_features)"
   ]
  },
  {
   "cell_type": "code",
   "execution_count": null,
   "metadata": {},
   "outputs": [],
   "source": [
    "params['n_estimators'] = model.booster_.num_trees()\n",
    "model = lgb.LGBMClassifier(**params)\n",
    "model.fit(train[useful_features], train['isFraud'], eval_metric='auc', categorical_feature=cat_features)"
   ]
  },
  {
   "cell_type": "markdown",
   "metadata": {},
   "source": [
    "# Prediction"
   ]
  },
  {
   "cell_type": "code",
   "execution_count": null,
   "metadata": {},
   "outputs": [],
   "source": [
    "y_preds = model.predict_proba(test[useful_features])[:, 1]"
   ]
  },
  {
   "cell_type": "code",
   "execution_count": null,
   "metadata": {},
   "outputs": [],
   "source": [
    "sub['isFraud'] = y_preds\n",
    "sub.to_csv(\"submission2.csv\", index=False)"
   ]
  },
  {
   "cell_type": "code",
   "execution_count": null,
   "metadata": {},
   "outputs": [],
   "source": []
  }
 ],
 "metadata": {
  "kernelspec": {
   "display_name": "Python 3",
   "language": "python",
   "name": "python3"
  },
  "language_info": {
   "codemirror_mode": {
    "name": "ipython",
    "version": 3
   },
   "file_extension": ".py",
   "mimetype": "text/x-python",
   "name": "python",
   "nbconvert_exporter": "python",
   "pygments_lexer": "ipython3",
   "version": "3.6.8"
  }
 },
 "nbformat": 4,
 "nbformat_minor": 2
}
